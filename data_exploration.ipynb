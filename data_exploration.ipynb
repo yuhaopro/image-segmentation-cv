{
 "cells": [
  {
   "cell_type": "code",
   "execution_count": 8,
   "metadata": {},
   "outputs": [],
   "source": [
    "from PIL import Image\n",
    "import os\n",
    "import numpy as np\n",
    "import shutil"
   ]
  },
  {
   "cell_type": "code",
   "execution_count": null,
   "metadata": {},
   "outputs": [],
   "source": [
    "# how dog vs cat pictures in dataset\n",
    "# use the mask unique values to determine\n",
    "# TRAIN_MASK_DIR = \"/teamspace/studios/this_studio/image-segmentation-cv/Dataset/TrainVal/label\"\n",
    "# TEST_MASK_DIR = \"/teamspace/studios/this_studio/image-segmentation-cv/Dataset/Test/label\"\n",
    "TRAIN_MASK_DIR = \"Dataset/TrainVal/label\"\n",
    "TEST_MASK_DIR = \"Dataset/Test/label\"\n",
    "\n",
    "def get_num_of_each_class(dataset_dir):\n",
    "    masks = os.listdir(dataset_dir)\n",
    "    num_of_cats = 0\n",
    "    num_of_dogs = 0\n",
    "\n",
    "    for mask in masks:\n",
    "        mask_img = np.array(Image.open(os.path.join(dataset_dir, mask)).convert(mode=\"L\"))\n",
    "        unique_mask_values = np.unique(mask_img)\n",
    "\n",
    "        if 38 in unique_mask_values:\n",
    "            num_of_cats += 1\n",
    "        elif 75 in unique_mask_values:\n",
    "            num_of_dogs += 1\n",
    "\n",
    "    return num_of_cats, num_of_dogs\n",
    "        "
   ]
  },
  {
   "cell_type": "code",
   "execution_count": 3,
   "metadata": {},
   "outputs": [
    {
     "name": "stdout",
     "output_type": "stream",
     "text": [
      "Train Dataset: Cats (1185), Dogs (2488)\n",
      "Train Dataset Cats to Dogs ratio: 0.4762861736334405\n",
      "Test Dataset: Cats (1203), Dogs (2491)\n",
      "Test Dataset Cats to Dogs ratio: 0.48293857888398234\n"
     ]
    }
   ],
   "source": [
    "num_of_cats, num_of_dogs = get_num_of_each_class(TRAIN_MASK_DIR)\n",
    "print(f\"Train Dataset: Cats ({num_of_cats}), Dogs ({num_of_dogs})\")\n",
    "print(f\"Train Dataset Cats to Dogs ratio: {num_of_cats / num_of_dogs}\")\n",
    "num_of_cats, num_of_dogs = get_num_of_each_class(TEST_MASK_DIR)\n",
    "print(f\"Test Dataset: Cats ({num_of_cats}), Dogs ({num_of_dogs})\")\n",
    "print(f\"Test Dataset Cats to Dogs ratio: {num_of_cats / num_of_dogs}\")\n"
   ]
  },
  {
   "cell_type": "code",
   "execution_count": 20,
   "metadata": {},
   "outputs": [
    {
     "data": {
      "text/plain": [
       "'/home/yuhaopro/Projects/CV/image-segmentation-cv'"
      ]
     },
     "execution_count": 20,
     "metadata": {},
     "output_type": "execute_result"
    }
   ],
   "source": [
    "os.getcwd()"
   ]
  },
  {
   "cell_type": "code",
   "execution_count": 19,
   "metadata": {},
   "outputs": [
    {
     "name": "stderr",
     "output_type": "stream",
     "text": [
      "mkdir: cannot create directory ‘/home/yuhaopro/Projects/CV/image-segmentation-cv/Dataset/TrainVal/color/cats’: File exists\n",
      "mkdir: cannot create directory ‘/home/yuhaopro/Projects/CV/image-segmentation-cv/Dataset/TrainVal/label/cats’: File exists\n",
      "mkdir: cannot create directory ‘/home/yuhaopro/Projects/CV/image-segmentation-cv/Dataset/TrainVal/color/dogs’: File exists\n",
      "mkdir: cannot create directory ‘/home/yuhaopro/Projects/CV/image-segmentation-cv/Dataset/TrainVal/label/dogs’: File exists\n"
     ]
    }
   ],
   "source": [
    "# extracting the cats and dogs out from the dataset to create individual folders for the classes.\n",
    "TRAIN_COLOR_DIR = \"Dataset/TrainVal/color\"\n",
    "TRAIN_MASK_DIR = \"Dataset/TrainVal/label\"\n",
    "os.system(f\"mkdir {os.getcwd()}/{TRAIN_COLOR_DIR}/cats\")\n",
    "os.system(f\"mkdir {os.getcwd()}/{TRAIN_MASK_DIR}/cats\")\n",
    "os.system(f\"mkdir {os.getcwd()}/{TRAIN_COLOR_DIR}/dogs\")\n",
    "os.system(f\"mkdir {os.getcwd()}/{TRAIN_MASK_DIR}/dogs\")\n",
    "\n",
    "def split_dataset(mask_dir):\n",
    "    # color is in jpg, while mask is in png\n",
    "    mask_names = os.listdir(mask_dir)\n",
    "    mask_names.remove(\"cats\")\n",
    "    mask_names.remove(\"dogs\")\n",
    "\n",
    "\n",
    "    for mask_name in mask_names:\n",
    "        mask = np.array(Image.open(f\"{mask_dir}/{mask_name}\").convert(mode=\"L\"))\n",
    "        unique_mask_values = np.unique(mask)\n",
    "        image_name = mask_name.replace(\"png\", \"jpg\")\n",
    "\n",
    "        # is cat\n",
    "        if 38 in unique_mask_values:\n",
    "            # print(f\"is a cat.\")\n",
    "            # shift the image to new directory label\n",
    "            shutil.move(f\"{TRAIN_COLOR_DIR}/{image_name}\", f\"{TRAIN_COLOR_DIR}/cats/{image_name}\")\n",
    "            shutil.move(f\"{TRAIN_MASK_DIR}/{mask_name}\", f\"{TRAIN_MASK_DIR}/cats/{mask_name}\")\n",
    "            \n",
    "        # is dog\n",
    "        if 75 in unique_mask_values:\n",
    "            # print(f\"is a dog.\")\n",
    "            shutil.move(f\"{TRAIN_COLOR_DIR}/{image_name}\", f\"{TRAIN_COLOR_DIR}/dogs/{image_name}\")\n",
    "            shutil.move(f\"{TRAIN_MASK_DIR}/{mask_name}\", f\"{TRAIN_MASK_DIR}/dogs/{mask_name}\")\n",
    "\n",
    "split_dataset(TRAIN_MASK_DIR)"
   ]
  }
 ],
 "metadata": {
  "kernelspec": {
   "display_name": ".venv",
   "language": "python",
   "name": "python3"
  },
  "language_info": {
   "codemirror_mode": {
    "name": "ipython",
    "version": 3
   },
   "file_extension": ".py",
   "mimetype": "text/x-python",
   "name": "python",
   "nbconvert_exporter": "python",
   "pygments_lexer": "ipython3",
   "version": "3.10.12"
  }
 },
 "nbformat": 4,
 "nbformat_minor": 2
}
